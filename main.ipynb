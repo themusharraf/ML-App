{
 "cells": [
  {
   "cell_type": "code",
   "execution_count": 1,
   "id": "ebe71535c44f24b2",
   "metadata": {
    "ExecuteTime": {
     "end_time": "2024-06-04T12:31:31.160949Z",
     "start_time": "2024-06-04T12:31:31.152707Z"
    }
   },
   "outputs": [],
   "source": [
    "# Data Science va Sun'iy Intellekt Praktikum # noqa\n",
    "# 5-MODUL. Machine Learning.\n",
    "# Linear Regression"
   ]
  },
  {
   "cell_type": "code",
   "execution_count": 2,
   "id": "9309c871a84fd71f",
   "metadata": {
    "ExecuteTime": {
     "end_time": "2024-06-04T12:31:31.996729Z",
     "start_time": "2024-06-04T12:31:31.160949Z"
    }
   },
   "outputs": [
    {
     "data": {
      "text/html": [
       "<div>\n",
       "<style scoped>\n",
       "    .dataframe tbody tr th:only-of-type {\n",
       "        vertical-align: middle;\n",
       "    }\n",
       "\n",
       "    .dataframe tbody tr th {\n",
       "        vertical-align: top;\n",
       "    }\n",
       "\n",
       "    .dataframe thead th {\n",
       "        text-align: right;\n",
       "    }\n",
       "</style>\n",
       "<table border=\"1\" class=\"dataframe\">\n",
       "  <thead>\n",
       "    <tr style=\"text-align: right;\">\n",
       "      <th></th>\n",
       "      <th>district</th>\n",
       "      <th>rooms</th>\n",
       "      <th>size</th>\n",
       "      <th>level</th>\n",
       "      <th>max_levels</th>\n",
       "      <th>price</th>\n",
       "    </tr>\n",
       "  </thead>\n",
       "  <tbody>\n",
       "    <tr>\n",
       "      <th>0</th>\n",
       "      <td>Юнусабадский</td>\n",
       "      <td>3</td>\n",
       "      <td>57.0</td>\n",
       "      <td>4</td>\n",
       "      <td>4</td>\n",
       "      <td>52000.0</td>\n",
       "    </tr>\n",
       "    <tr>\n",
       "      <th>1</th>\n",
       "      <td>Яккасарайский</td>\n",
       "      <td>2</td>\n",
       "      <td>52.0</td>\n",
       "      <td>4</td>\n",
       "      <td>5</td>\n",
       "      <td>56000.0</td>\n",
       "    </tr>\n",
       "    <tr>\n",
       "      <th>2</th>\n",
       "      <td>Чиланзарский</td>\n",
       "      <td>2</td>\n",
       "      <td>42.0</td>\n",
       "      <td>4</td>\n",
       "      <td>4</td>\n",
       "      <td>37000.0</td>\n",
       "    </tr>\n",
       "    <tr>\n",
       "      <th>3</th>\n",
       "      <td>Чиланзарский</td>\n",
       "      <td>3</td>\n",
       "      <td>65.0</td>\n",
       "      <td>1</td>\n",
       "      <td>4</td>\n",
       "      <td>49500.0</td>\n",
       "    </tr>\n",
       "    <tr>\n",
       "      <th>4</th>\n",
       "      <td>Чиланзарский</td>\n",
       "      <td>3</td>\n",
       "      <td>70.0</td>\n",
       "      <td>3</td>\n",
       "      <td>5</td>\n",
       "      <td>55000.0</td>\n",
       "    </tr>\n",
       "    <tr>\n",
       "      <th>5</th>\n",
       "      <td>Чиланзарский</td>\n",
       "      <td>1</td>\n",
       "      <td>28.0</td>\n",
       "      <td>1</td>\n",
       "      <td>4</td>\n",
       "      <td>25500.0</td>\n",
       "    </tr>\n",
       "    <tr>\n",
       "      <th>6</th>\n",
       "      <td>Чиланзарский</td>\n",
       "      <td>1</td>\n",
       "      <td>30.0</td>\n",
       "      <td>2</td>\n",
       "      <td>4</td>\n",
       "      <td>21200.0</td>\n",
       "    </tr>\n",
       "    <tr>\n",
       "      <th>7</th>\n",
       "      <td>Яккасарайский</td>\n",
       "      <td>2</td>\n",
       "      <td>32.0</td>\n",
       "      <td>5</td>\n",
       "      <td>5</td>\n",
       "      <td>20000.0</td>\n",
       "    </tr>\n",
       "    <tr>\n",
       "      <th>8</th>\n",
       "      <td>Учтепинский</td>\n",
       "      <td>2</td>\n",
       "      <td>51.0</td>\n",
       "      <td>3</td>\n",
       "      <td>4</td>\n",
       "      <td>26200.0</td>\n",
       "    </tr>\n",
       "    <tr>\n",
       "      <th>9</th>\n",
       "      <td>Чиланзарский</td>\n",
       "      <td>1</td>\n",
       "      <td>30.0</td>\n",
       "      <td>1</td>\n",
       "      <td>4</td>\n",
       "      <td>22200.0</td>\n",
       "    </tr>\n",
       "  </tbody>\n",
       "</table>\n",
       "</div>"
      ],
      "text/plain": [
       "        district  rooms  size  level  max_levels    price\n",
       "0   Юнусабадский      3  57.0      4           4  52000.0\n",
       "1  Яккасарайский      2  52.0      4           5  56000.0\n",
       "2   Чиланзарский      2  42.0      4           4  37000.0\n",
       "3   Чиланзарский      3  65.0      1           4  49500.0\n",
       "4   Чиланзарский      3  70.0      3           5  55000.0\n",
       "5   Чиланзарский      1  28.0      1           4  25500.0\n",
       "6   Чиланзарский      1  30.0      2           4  21200.0\n",
       "7  Яккасарайский      2  32.0      5           5  20000.0\n",
       "8    Учтепинский      2  51.0      3           4  26200.0\n",
       "9   Чиланзарский      1  30.0      1           4  22200.0"
      ]
     },
     "execution_count": 2,
     "metadata": {},
     "output_type": "execute_result"
    }
   ],
   "source": [
    "import pandas as pd\n",
    "df = pd.read_csv('https://raw.githubusercontent.com/anvarnarz/praktikum_datasets/main/housing_LR.csv', index_col=0)\n",
    "df.head(10)"
   ]
  },
  {
   "cell_type": "code",
   "execution_count": 3,
   "id": "291c956f36decf5b",
   "metadata": {
    "ExecuteTime": {
     "end_time": "2024-06-04T12:31:32.012461Z",
     "start_time": "2024-06-04T12:31:31.996729Z"
    }
   },
   "outputs": [],
   "source": [
    "#### Ustunlar ta'rifi # noqa\n",
    "# location - sotilayotgan uy manzili # noqa\n",
    "# district - uy joylashgan tuman # noqa\n",
    "# rooms - xonalar soni  # noqa\n",
    "# size - uy maydoni (kv.m) # noqa\n",
    "# level - uy"
   ]
  },
  {
   "cell_type": "code",
   "execution_count": 4,
   "id": "c179aa22bc0d013e",
   "metadata": {
    "ExecuteTime": {
     "end_time": "2024-06-04T12:31:32.028416Z",
     "start_time": "2024-06-04T12:31:32.012461Z"
    }
   },
   "outputs": [
    {
     "data": {
      "text/plain": [
       "district\n",
       "Чиланзарский         1616\n",
       "Мирзо-Улугбекский    1342\n",
       "Учтепинский           872\n",
       "Юнусабадский          847\n",
       "Мирабадский           717\n",
       "Яккасарайский         628\n",
       "Яшнободский           456\n",
       "Шайхантахурский       356\n",
       "Олмазорский           262\n",
       "Сергелийский          159\n",
       "Янгихаётский           15\n",
       "Бектемирский            8\n",
       "Name: count, dtype: int64"
      ]
     },
     "execution_count": 4,
     "metadata": {},
     "output_type": "execute_result"
    }
   ],
   "source": [
    "df['district'].value_counts()"
   ]
  },
  {
   "cell_type": "code",
   "execution_count": 5,
   "id": "61685794761a543e",
   "metadata": {
    "ExecuteTime": {
     "end_time": "2024-06-04T12:31:32.044047Z",
     "start_time": "2024-06-04T12:31:32.028416Z"
    }
   },
   "outputs": [],
   "source": [
    "# Darsimiz uchun Chilonzor tumanidagi uylarning narxini bashorat qilib ko'ramiz # noqa"
   ]
  },
  {
   "cell_type": "code",
   "execution_count": 6,
   "id": "27ba1a6c844149ed",
   "metadata": {
    "ExecuteTime": {
     "end_time": "2024-06-04T12:31:32.058805Z",
     "start_time": "2024-06-04T12:31:32.044047Z"
    }
   },
   "outputs": [
    {
     "data": {
      "text/html": [
       "<div>\n",
       "<style scoped>\n",
       "    .dataframe tbody tr th:only-of-type {\n",
       "        vertical-align: middle;\n",
       "    }\n",
       "\n",
       "    .dataframe tbody tr th {\n",
       "        vertical-align: top;\n",
       "    }\n",
       "\n",
       "    .dataframe thead th {\n",
       "        text-align: right;\n",
       "    }\n",
       "</style>\n",
       "<table border=\"1\" class=\"dataframe\">\n",
       "  <thead>\n",
       "    <tr style=\"text-align: right;\">\n",
       "      <th></th>\n",
       "      <th>district</th>\n",
       "      <th>rooms</th>\n",
       "      <th>size</th>\n",
       "      <th>level</th>\n",
       "      <th>max_levels</th>\n",
       "      <th>price</th>\n",
       "    </tr>\n",
       "  </thead>\n",
       "  <tbody>\n",
       "    <tr>\n",
       "      <th>2</th>\n",
       "      <td>Чиланзарский</td>\n",
       "      <td>2</td>\n",
       "      <td>42.0</td>\n",
       "      <td>4</td>\n",
       "      <td>4</td>\n",
       "      <td>37000.0</td>\n",
       "    </tr>\n",
       "    <tr>\n",
       "      <th>3</th>\n",
       "      <td>Чиланзарский</td>\n",
       "      <td>3</td>\n",
       "      <td>65.0</td>\n",
       "      <td>1</td>\n",
       "      <td>4</td>\n",
       "      <td>49500.0</td>\n",
       "    </tr>\n",
       "    <tr>\n",
       "      <th>4</th>\n",
       "      <td>Чиланзарский</td>\n",
       "      <td>3</td>\n",
       "      <td>70.0</td>\n",
       "      <td>3</td>\n",
       "      <td>5</td>\n",
       "      <td>55000.0</td>\n",
       "    </tr>\n",
       "    <tr>\n",
       "      <th>5</th>\n",
       "      <td>Чиланзарский</td>\n",
       "      <td>1</td>\n",
       "      <td>28.0</td>\n",
       "      <td>1</td>\n",
       "      <td>4</td>\n",
       "      <td>25500.0</td>\n",
       "    </tr>\n",
       "    <tr>\n",
       "      <th>6</th>\n",
       "      <td>Чиланзарский</td>\n",
       "      <td>1</td>\n",
       "      <td>30.0</td>\n",
       "      <td>2</td>\n",
       "      <td>4</td>\n",
       "      <td>21200.0</td>\n",
       "    </tr>\n",
       "  </tbody>\n",
       "</table>\n",
       "</div>"
      ],
      "text/plain": [
       "       district  rooms  size  level  max_levels    price\n",
       "2  Чиланзарский      2  42.0      4           4  37000.0\n",
       "3  Чиланзарский      3  65.0      1           4  49500.0\n",
       "4  Чиланзарский      3  70.0      3           5  55000.0\n",
       "5  Чиланзарский      1  28.0      1           4  25500.0\n",
       "6  Чиланзарский      1  30.0      2           4  21200.0"
      ]
     },
     "execution_count": 6,
     "metadata": {},
     "output_type": "execute_result"
    }
   ],
   "source": [
    "housing = df[df.district=='Чиланзарский']\n",
    "housing.head()"
   ]
  },
  {
   "cell_type": "code",
   "execution_count": 7,
   "id": "95ce449b1ed91557",
   "metadata": {
    "ExecuteTime": {
     "end_time": "2024-06-04T12:31:32.075401Z",
     "start_time": "2024-06-04T12:31:32.059754Z"
    }
   },
   "outputs": [],
   "source": [
    "# enter to numpy array"
   ]
  },
  {
   "cell_type": "code",
   "execution_count": 8,
   "id": "6498e5add72c88dd",
   "metadata": {
    "ExecuteTime": {
     "end_time": "2024-06-04T12:31:32.091077Z",
     "start_time": "2024-06-04T12:31:32.075401Z"
    }
   },
   "outputs": [
    {
     "data": {
      "text/plain": [
       "array([42., 65., 70., ..., 32., 70., 30.])"
      ]
     },
     "execution_count": 8,
     "metadata": {},
     "output_type": "execute_result"
    }
   ],
   "source": [
    "X = housing['size'].to_numpy()\n",
    "X"
   ]
  },
  {
   "cell_type": "code",
   "execution_count": 9,
   "id": "6520bb574a3a2e59",
   "metadata": {
    "ExecuteTime": {
     "end_time": "2024-06-04T12:31:32.106803Z",
     "start_time": "2024-06-04T12:31:32.091077Z"
    }
   },
   "outputs": [
    {
     "data": {
      "text/plain": [
       "array([37000., 49500., 55000., ..., 28000., 49800., 22914.])"
      ]
     },
     "execution_count": 9,
     "metadata": {},
     "output_type": "execute_result"
    }
   ],
   "source": [
    "y = housing['price'].to_numpy()\n",
    "y"
   ]
  },
  {
   "cell_type": "code",
   "execution_count": 10,
   "id": "2100b31a9b76c853",
   "metadata": {
    "ExecuteTime": {
     "end_time": "2024-06-04T12:31:32.122436Z",
     "start_time": "2024-06-04T12:31:32.106803Z"
    }
   },
   "outputs": [],
   "source": [
    "# Narx va uy maydoni o'rtasida chiziqli bog'liqlik bor ekanini tekshirib ko'ramiz. # noqa"
   ]
  },
  {
   "cell_type": "code",
   "id": "8615092bdff0cdce",
   "metadata": {
    "ExecuteTime": {
     "end_time": "2024-06-04T12:45:38.888201Z",
     "start_time": "2024-06-04T12:45:38.779922Z"
    }
   },
   "source": [
    "import matplotlib.pyplot as plt\n",
    "import seaborn as sns"
   ],
   "outputs": [
    {
     "ename": "ImportError",
     "evalue": "DLL load failed while importing _cext: The specified module could not be found.",
     "output_type": "error",
     "traceback": [
      "\u001B[1;31m---------------------------------------------------------------------------\u001B[0m",
      "\u001B[1;31mImportError\u001B[0m                               Traceback (most recent call last)",
      "Cell \u001B[1;32mIn[30], line 1\u001B[0m\n\u001B[1;32m----> 1\u001B[0m \u001B[38;5;28;01mimport\u001B[39;00m \u001B[38;5;21;01mmatplotlib\u001B[39;00m\u001B[38;5;21;01m.\u001B[39;00m\u001B[38;5;21;01mpyplot\u001B[39;00m \u001B[38;5;28;01mas\u001B[39;00m \u001B[38;5;21;01mplt\u001B[39;00m\n\u001B[0;32m      2\u001B[0m \u001B[38;5;28;01mimport\u001B[39;00m \u001B[38;5;21;01mseaborn\u001B[39;00m \u001B[38;5;28;01mas\u001B[39;00m \u001B[38;5;21;01msns\u001B[39;00m\n",
      "File \u001B[1;32m~\\Loyiha\\MLl\\.venv\\lib\\site-packages\\matplotlib\\__init__.py:276\u001B[0m\n\u001B[0;32m    271\u001B[0m         \u001B[38;5;28;01mif\u001B[39;00m parse_version(module\u001B[38;5;241m.\u001B[39m__version__) \u001B[38;5;241m<\u001B[39m parse_version(minver):\n\u001B[0;32m    272\u001B[0m             \u001B[38;5;28;01mraise\u001B[39;00m \u001B[38;5;167;01mImportError\u001B[39;00m(\u001B[38;5;124mf\u001B[39m\u001B[38;5;124m\"\u001B[39m\u001B[38;5;124mMatplotlib requires \u001B[39m\u001B[38;5;132;01m{\u001B[39;00mmodname\u001B[38;5;132;01m}\u001B[39;00m\u001B[38;5;124m>=\u001B[39m\u001B[38;5;132;01m{\u001B[39;00mminver\u001B[38;5;132;01m}\u001B[39;00m\u001B[38;5;124m; \u001B[39m\u001B[38;5;124m\"\u001B[39m\n\u001B[0;32m    273\u001B[0m                               \u001B[38;5;124mf\u001B[39m\u001B[38;5;124m\"\u001B[39m\u001B[38;5;124myou have \u001B[39m\u001B[38;5;132;01m{\u001B[39;00mmodule\u001B[38;5;241m.\u001B[39m__version__\u001B[38;5;132;01m}\u001B[39;00m\u001B[38;5;124m\"\u001B[39m)\n\u001B[1;32m--> 276\u001B[0m \u001B[43m_check_versions\u001B[49m\u001B[43m(\u001B[49m\u001B[43m)\u001B[49m\n\u001B[0;32m    279\u001B[0m \u001B[38;5;66;03m# The decorator ensures this always returns the same handler (and it is only\u001B[39;00m\n\u001B[0;32m    280\u001B[0m \u001B[38;5;66;03m# attached once).\u001B[39;00m\n\u001B[0;32m    281\u001B[0m \u001B[38;5;129m@functools\u001B[39m\u001B[38;5;241m.\u001B[39mcache\n\u001B[0;32m    282\u001B[0m \u001B[38;5;28;01mdef\u001B[39;00m \u001B[38;5;21m_ensure_handler\u001B[39m():\n",
      "File \u001B[1;32m~\\Loyiha\\MLl\\.venv\\lib\\site-packages\\matplotlib\\__init__.py:270\u001B[0m, in \u001B[0;36m_check_versions\u001B[1;34m()\u001B[0m\n\u001B[0;32m    261\u001B[0m \u001B[38;5;28;01mfrom\u001B[39;00m \u001B[38;5;21;01m.\u001B[39;00m \u001B[38;5;28;01mimport\u001B[39;00m ft2font  \u001B[38;5;66;03m# noqa: F401\u001B[39;00m\n\u001B[0;32m    263\u001B[0m \u001B[38;5;28;01mfor\u001B[39;00m modname, minver \u001B[38;5;129;01min\u001B[39;00m [\n\u001B[0;32m    264\u001B[0m         (\u001B[38;5;124m\"\u001B[39m\u001B[38;5;124mcycler\u001B[39m\u001B[38;5;124m\"\u001B[39m, \u001B[38;5;124m\"\u001B[39m\u001B[38;5;124m0.10\u001B[39m\u001B[38;5;124m\"\u001B[39m),\n\u001B[0;32m    265\u001B[0m         (\u001B[38;5;124m\"\u001B[39m\u001B[38;5;124mdateutil\u001B[39m\u001B[38;5;124m\"\u001B[39m, \u001B[38;5;124m\"\u001B[39m\u001B[38;5;124m2.7\u001B[39m\u001B[38;5;124m\"\u001B[39m),\n\u001B[1;32m   (...)\u001B[0m\n\u001B[0;32m    268\u001B[0m         (\u001B[38;5;124m\"\u001B[39m\u001B[38;5;124mpyparsing\u001B[39m\u001B[38;5;124m\"\u001B[39m, \u001B[38;5;124m\"\u001B[39m\u001B[38;5;124m2.3.1\u001B[39m\u001B[38;5;124m\"\u001B[39m),\n\u001B[0;32m    269\u001B[0m ]:\n\u001B[1;32m--> 270\u001B[0m     module \u001B[38;5;241m=\u001B[39m \u001B[43mimportlib\u001B[49m\u001B[38;5;241;43m.\u001B[39;49m\u001B[43mimport_module\u001B[49m\u001B[43m(\u001B[49m\u001B[43mmodname\u001B[49m\u001B[43m)\u001B[49m\n\u001B[0;32m    271\u001B[0m     \u001B[38;5;28;01mif\u001B[39;00m parse_version(module\u001B[38;5;241m.\u001B[39m__version__) \u001B[38;5;241m<\u001B[39m parse_version(minver):\n\u001B[0;32m    272\u001B[0m         \u001B[38;5;28;01mraise\u001B[39;00m \u001B[38;5;167;01mImportError\u001B[39;00m(\u001B[38;5;124mf\u001B[39m\u001B[38;5;124m\"\u001B[39m\u001B[38;5;124mMatplotlib requires \u001B[39m\u001B[38;5;132;01m{\u001B[39;00mmodname\u001B[38;5;132;01m}\u001B[39;00m\u001B[38;5;124m>=\u001B[39m\u001B[38;5;132;01m{\u001B[39;00mminver\u001B[38;5;132;01m}\u001B[39;00m\u001B[38;5;124m; \u001B[39m\u001B[38;5;124m\"\u001B[39m\n\u001B[0;32m    273\u001B[0m                           \u001B[38;5;124mf\u001B[39m\u001B[38;5;124m\"\u001B[39m\u001B[38;5;124myou have \u001B[39m\u001B[38;5;132;01m{\u001B[39;00mmodule\u001B[38;5;241m.\u001B[39m__version__\u001B[38;5;132;01m}\u001B[39;00m\u001B[38;5;124m\"\u001B[39m)\n",
      "File \u001B[1;32mC:\\Program Files\\Python310\\lib\\importlib\\__init__.py:126\u001B[0m, in \u001B[0;36mimport_module\u001B[1;34m(name, package)\u001B[0m\n\u001B[0;32m    124\u001B[0m             \u001B[38;5;28;01mbreak\u001B[39;00m\n\u001B[0;32m    125\u001B[0m         level \u001B[38;5;241m+\u001B[39m\u001B[38;5;241m=\u001B[39m \u001B[38;5;241m1\u001B[39m\n\u001B[1;32m--> 126\u001B[0m \u001B[38;5;28;01mreturn\u001B[39;00m \u001B[43m_bootstrap\u001B[49m\u001B[38;5;241;43m.\u001B[39;49m\u001B[43m_gcd_import\u001B[49m\u001B[43m(\u001B[49m\u001B[43mname\u001B[49m\u001B[43m[\u001B[49m\u001B[43mlevel\u001B[49m\u001B[43m:\u001B[49m\u001B[43m]\u001B[49m\u001B[43m,\u001B[49m\u001B[43m \u001B[49m\u001B[43mpackage\u001B[49m\u001B[43m,\u001B[49m\u001B[43m \u001B[49m\u001B[43mlevel\u001B[49m\u001B[43m)\u001B[49m\n",
      "File \u001B[1;32m~\\Loyiha\\MLl\\.venv\\lib\\site-packages\\kiwisolver\\__init__.py:8\u001B[0m\n\u001B[0;32m      1\u001B[0m \u001B[38;5;66;03m# --------------------------------------------------------------------------------------\u001B[39;00m\n\u001B[0;32m      2\u001B[0m \u001B[38;5;66;03m# Copyright (c) 2013-2022, Nucleic Development Team.\u001B[39;00m\n\u001B[0;32m      3\u001B[0m \u001B[38;5;66;03m#\u001B[39;00m\n\u001B[1;32m   (...)\u001B[0m\n\u001B[0;32m      6\u001B[0m \u001B[38;5;66;03m# The full license is in the file LICENSE, distributed with this software.\u001B[39;00m\n\u001B[0;32m      7\u001B[0m \u001B[38;5;66;03m# --------------------------------------------------------------------------------------\u001B[39;00m\n\u001B[1;32m----> 8\u001B[0m \u001B[38;5;28;01mfrom\u001B[39;00m \u001B[38;5;21;01m.\u001B[39;00m\u001B[38;5;21;01m_cext\u001B[39;00m \u001B[38;5;28;01mimport\u001B[39;00m (\n\u001B[0;32m      9\u001B[0m     Constraint,\n\u001B[0;32m     10\u001B[0m     Expression,\n\u001B[0;32m     11\u001B[0m     Solver,\n\u001B[0;32m     12\u001B[0m     Term,\n\u001B[0;32m     13\u001B[0m     Variable,\n\u001B[0;32m     14\u001B[0m     __kiwi_version__,\n\u001B[0;32m     15\u001B[0m     __version__,\n\u001B[0;32m     16\u001B[0m     strength,\n\u001B[0;32m     17\u001B[0m )\n\u001B[0;32m     18\u001B[0m \u001B[38;5;28;01mfrom\u001B[39;00m \u001B[38;5;21;01m.\u001B[39;00m\u001B[38;5;21;01mexceptions\u001B[39;00m \u001B[38;5;28;01mimport\u001B[39;00m (\n\u001B[0;32m     19\u001B[0m     BadRequiredStrength,\n\u001B[0;32m     20\u001B[0m     DuplicateConstraint,\n\u001B[1;32m   (...)\u001B[0m\n\u001B[0;32m     24\u001B[0m     UnsatisfiableConstraint,\n\u001B[0;32m     25\u001B[0m )\n\u001B[0;32m     27\u001B[0m __all__ \u001B[38;5;241m=\u001B[39m [\n\u001B[0;32m     28\u001B[0m     \u001B[38;5;124m\"\u001B[39m\u001B[38;5;124mBadRequiredStrength\u001B[39m\u001B[38;5;124m\"\u001B[39m,\n\u001B[0;32m     29\u001B[0m     \u001B[38;5;124m\"\u001B[39m\u001B[38;5;124mDuplicateConstraint\u001B[39m\u001B[38;5;124m\"\u001B[39m,\n\u001B[1;32m   (...)\u001B[0m\n\u001B[0;32m     41\u001B[0m     \u001B[38;5;124m\"\u001B[39m\u001B[38;5;124m__kiwi_version__\u001B[39m\u001B[38;5;124m\"\u001B[39m,\n\u001B[0;32m     42\u001B[0m ]\n",
      "\u001B[1;31mImportError\u001B[0m: DLL load failed while importing _cext: The specified module could not be found."
     ]
    }
   ],
   "execution_count": 30
  },
  {
   "cell_type": "code",
   "execution_count": null,
   "id": "ff7c9df0580b6251",
   "metadata": {
    "ExecuteTime": {
     "end_time": "2024-06-04T12:39:29.402320Z",
     "start_time": "2024-06-04T12:39:29.377896Z"
    }
   },
   "outputs": [],
   "source": [
    "plt.figure(figsize=(10,6))\n",
    "sns.scatterplot(data=housing, x='size', y='price')\n",
    "plt.show()"
   ]
  },
  {
   "cell_type": "code",
   "execution_count": null,
   "id": "40118688e89190f2",
   "metadata": {},
   "outputs": [],
   "source": []
  }
 ],
 "metadata": {
  "kernelspec": {
   "display_name": "Python 3 (ipykernel)",
   "language": "python",
   "name": "python3"
  },
  "language_info": {
   "codemirror_mode": {
    "name": "ipython",
    "version": 3
   },
   "file_extension": ".py",
   "mimetype": "text/x-python",
   "name": "python",
   "nbconvert_exporter": "python",
   "pygments_lexer": "ipython3",
   "version": "3.10.1"
  }
 },
 "nbformat": 4,
 "nbformat_minor": 5
}
